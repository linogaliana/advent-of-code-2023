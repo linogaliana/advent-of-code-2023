{
  "nbformat": 4,
  "nbformat_minor": 0,
  "metadata": {
    "colab": {
      "provenance": []
    },
    "kernelspec": {
      "name": "python3",
      "display_name": "Python 3"
    },
    "language_info": {
      "name": "python"
    }
  },
  "cells": [
    {
      "cell_type": "code",
      "execution_count": 42,
      "metadata": {
        "id": "CeqrhIMvVgRw"
      },
      "outputs": [],
      "source": [
        "import pandas as pd\n",
        "from io import StringIO\n",
        "import re"
      ]
    },
    {
      "cell_type": "code",
      "source": [
        "input = pd.read_csv(\"file.txt\", header = None)\n",
        "input.columns = [\"code\"]\n",
        "\n",
        "word_to_number = {\n",
        "    'one': \"1\",\n",
        "    'two': \"2\",\n",
        "    'three': \"3\",\n",
        "    'four': \"4\",\n",
        "    'five': \"5\",\n",
        "    'six': \"6\",\n",
        "    'seven': \"7\",\n",
        "    'eight': \"8\",\n",
        "    'nine': \"9\"\n",
        "}\n",
        "\n",
        "# moche mais marche\n",
        "input.replace(\"one\", \"one1one\", regex=True, inplace=True)\n",
        "input.replace(\"two\", \"two2two\", regex=True, inplace=True)\n",
        "input.replace(\"three\", \"three3three\", regex=True, inplace=True)\n",
        "input.replace(\"four\", \"four4four\", regex=True, inplace=True)\n",
        "input.replace(\"five\", \"five5five\", regex=True, inplace=True)\n",
        "input.replace(\"six\", \"six6six\", regex=True, inplace=True)\n",
        "input.replace(\"seven\", \"seven7seven\", regex=True, inplace=True)\n",
        "input.replace(\"eight\", \"eight8eight\", regex=True, inplace=True)\n",
        "input.replace(\"nine\", \"nine9nine\", regex=True, inplace=True)\n",
        "\n",
        "input['code'] = input['code'].replace(word_to_number, regex=True)\n",
        "\n",
        "input[\"figures\"] = input[\"code\"].str.replace(r'\\D','')\n",
        "input['first_character'] = input['figures'].str[0]\n",
        "input['last_character'] = input['figures'].str[-1]\n",
        "input['value'] = input['first_character'].astype(str) + input['last_character'].astype(str)\n",
        "input['value'].astype(int).sum()"
      ],
      "metadata": {
        "colab": {
          "base_uri": "https://localhost:8080/"
        },
        "id": "uy7EbsJ3Vpbl",
        "outputId": "98230c38-f548-4ff8-e1ae-b5e4d1c91f90"
      },
      "execution_count": 108,
      "outputs": [
        {
          "output_type": "stream",
          "name": "stderr",
          "text": [
            "<ipython-input-108-8445b42ae482>:28: FutureWarning: The default value of regex will change from True to False in a future version.\n",
            "  input[\"figures\"] = input[\"code\"].str.replace(r'\\D','')\n"
          ]
        },
        {
          "output_type": "execute_result",
          "data": {
            "text/plain": [
              "54925"
            ]
          },
          "metadata": {},
          "execution_count": 108
        }
      ]
    },
    {
      "cell_type": "code",
      "source": [],
      "metadata": {
        "id": "1EEeahPlc6Y3"
      },
      "execution_count": null,
      "outputs": []
    }
  ]
}